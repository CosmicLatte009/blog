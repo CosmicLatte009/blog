{
  "nbformat": 4,
  "nbformat_minor": 0,
  "metadata": {
    "colab": {
      "provenance": [],
      "toc_visible": true
    },
    "kernelspec": {
      "name": "python3",
      "display_name": "Python 3"
    },
    "language_info": {
      "name": "python"
    }
  },
  "cells": [
    {
      "cell_type": "markdown",
      "source": [
        "# 마크다운 문법\n",
        "```\n",
        "# hello\n",
        "## hello2\n",
        "### hello3\n",
        "\n",
        "* 항목\n",
        "* 항목\n",
        "* 항목\n",
        "1. 항목\n",
        "1. 항목\n",
        "1. 항목\n",
        "```"
      ],
      "metadata": {
        "id": "D_DET-mJZjtO"
      }
    },
    {
      "cell_type": "markdown",
      "source": [
        "# colab 단축키 및 설정\n",
        "\n",
        "```\n",
        "Ctrl + Enter: 현재 셀 실행\n",
        "Alt + Enter: 현재 셀 실행 + 아래 코드블록 추가\n",
        "```\n",
        "\n",
        "* 오른쪽 상단 톱니바퀴 클릭 > 편집키 > 들여쓰기 4칸"
      ],
      "metadata": {
        "id": "dA5WR0VcaQQ4"
      }
    },
    {
      "cell_type": "markdown",
      "source": [
        "# python"
      ],
      "metadata": {
        "id": "uYAhXO7UpdnL"
      }
    },
    {
      "cell_type": "markdown",
      "source": [
        "## ch1. 주석, 입력(input), 출력(print)\n"
      ],
      "metadata": {
        "id": "JrGNvXS2o1ZA"
      }
    },
    {
      "cell_type": "code",
      "source": [
        "# 아래 코드는 1 더하기 1의 결과값을 출력합니다.\n",
        "1+1"
      ],
      "metadata": {
        "id": "JrFQGtsDpC1C"
      },
      "execution_count": null,
      "outputs": []
    },
    {
      "cell_type": "code",
      "source": [
        "1+1 # 아래 코드는 1 더하기 1의 결과값을 출력합니다."
      ],
      "metadata": {
        "id": "Ph2fgkL_pesY"
      },
      "execution_count": null,
      "outputs": []
    },
    {
      "cell_type": "code",
      "source": [
        "'''\n",
        "아래 코드는\n",
        "1 더하기 1의 결과값을\n",
        "출력합니다.\n",
        "'''\n",
        "1+1"
      ],
      "metadata": {
        "id": "e4fbkfkarSnQ"
      },
      "execution_count": null,
      "outputs": []
    },
    {
      "cell_type": "code",
      "source": [
        "\"\"\"\n",
        "아래 코드는\n",
        "1 더하기 1의 결과값을\n",
        "출력합니다.\n",
        "\"\"\"\n",
        "1+1"
      ],
      "metadata": {
        "id": "srOGQfm5rpqY"
      },
      "execution_count": null,
      "outputs": []
    },
    {
      "cell_type": "code",
      "source": [
        "print(1+1)"
      ],
      "metadata": {
        "colab": {
          "base_uri": "https://localhost:8080/"
        },
        "id": "zv-XM-zRpv9v",
        "outputId": "36263825-04dd-43a3-fa23-903aff34a339"
      },
      "execution_count": null,
      "outputs": [
        {
          "output_type": "stream",
          "name": "stdout",
          "text": [
            "2\n"
          ]
        }
      ]
    },
    {
      "cell_type": "code",
      "source": [
        "1+1\n",
        "1+2\n",
        "1+3\n",
        "1+4\n",
        "1+5"
      ],
      "metadata": {
        "colab": {
          "base_uri": "https://localhost:8080/"
        },
        "id": "IQAlFpS5p2Xx",
        "outputId": "5c2bc15b-288d-4cf7-b5a7-832befdf761f"
      },
      "execution_count": null,
      "outputs": [
        {
          "output_type": "execute_result",
          "data": {
            "text/plain": [
              "6"
            ]
          },
          "metadata": {},
          "execution_count": 9
        }
      ]
    },
    {
      "cell_type": "code",
      "source": [
        "print(1+1)\n",
        "print(1+2)\n",
        "print(1+3)\n",
        "print(1+4)\n",
        "print(1+5)"
      ],
      "metadata": {
        "colab": {
          "base_uri": "https://localhost:8080/"
        },
        "id": "3dsyradLqC1n",
        "outputId": "2decc33b-aeb1-4a10-ab0e-b59e82dee7ad"
      },
      "execution_count": null,
      "outputs": [
        {
          "output_type": "stream",
          "name": "stdout",
          "text": [
            "2\n",
            "3\n",
            "4\n",
            "5\n",
            "6\n"
          ]
        }
      ]
    },
    {
      "cell_type": "code",
      "source": [
        "input('나이를 입력하세요!')"
      ],
      "metadata": {
        "colab": {
          "base_uri": "https://localhost:8080/",
          "height": 52
        },
        "id": "iynzl5wkqWb5",
        "outputId": "360c0a26-a2a9-4e1d-b61b-212327b0c841"
      },
      "execution_count": null,
      "outputs": [
        {
          "name": "stdout",
          "output_type": "stream",
          "text": [
            "나이를 입력하세요!10\n"
          ]
        },
        {
          "output_type": "execute_result",
          "data": {
            "text/plain": [
              "'10'"
            ],
            "application/vnd.google.colaboratory.intrinsic+json": {
              "type": "string"
            }
          },
          "metadata": {},
          "execution_count": 14
        }
      ]
    },
    {
      "cell_type": "markdown",
      "source": [
        "## ch2 변수"
      ],
      "metadata": {
        "id": "t7DiwCHKtZkp"
      }
    },
    {
      "cell_type": "markdown",
      "source": [
        "- 파이썬의 변수는 담는 것이 아니라 가리키는 것입니다.\n",
        "- 변수의 이름 규칙\n",
        "    - 특수문자(_는 제외)는 사용하지 않습니다.\n",
        "    - 변수는 띄어쓰기하지 않습니다.\n",
        "    - 대소문자는 다른 변수를 의미합니다.\n",
        "    - 숫자로 시작해서는 안됩니다. (숫자가 중간이나 마지막에 들어가는 것을 괜찮습니다.)\n",
        "    - Built-in Functions, 키워드를 변수명으로 사용하지 않습니다.\n",
        "       -  https://docs.python.org/3/library/functions.html\n",
        "       -  https://wikidocs.net/20557\n",
        "    - 각 나라의 언어를 변수명으로 사용할 수 있습니다.\n",
        "    - 대문자로 시작하는 변수는 보통 Class로 간주합니다.\n",
        "    - 스네이크 표기법 hello_world 를 파이썬에서 많이 쓴다."
      ],
      "metadata": {
        "id": "lfoNxL-izzpe"
      }
    },
    {
      "cell_type": "code",
      "source": [
        "x = 10\n",
        "y = 20\n",
        "x + y"
      ],
      "metadata": {
        "colab": {
          "base_uri": "https://localhost:8080/"
        },
        "id": "fRAqL83hqa6s",
        "outputId": "fda1ddf4-1e25-4b7b-f0f7-7e279639c428"
      },
      "execution_count": null,
      "outputs": [
        {
          "output_type": "execute_result",
          "data": {
            "text/plain": [
              "30"
            ]
          },
          "metadata": {},
          "execution_count": 12
        }
      ]
    },
    {
      "cell_type": "code",
      "source": [
        "x = 10\n",
        "y = x\n",
        "z = y"
      ],
      "metadata": {
        "id": "WsoqWlWVsiIX"
      },
      "execution_count": null,
      "outputs": []
    },
    {
      "cell_type": "code",
      "source": [
        "x = 10\n",
        "y = x\n",
        "z = y\n",
        "\n",
        "y = 20\n",
        "z"
      ],
      "metadata": {
        "colab": {
          "base_uri": "https://localhost:8080/"
        },
        "id": "irzQQLCTtLdX",
        "outputId": "16c191ae-154a-4bb0-aa31-4157c61abd23"
      },
      "execution_count": null,
      "outputs": [
        {
          "output_type": "execute_result",
          "data": {
            "text/plain": [
              "10"
            ]
          },
          "metadata": {},
          "execution_count": 23
        }
      ]
    },
    {
      "cell_type": "markdown",
      "source": [
        "## ch3. 변수의 타입"
      ],
      "metadata": {
        "id": "xxsVJIMvvflM"
      }
    },
    {
      "cell_type": "code",
      "source": [
        "# 숫자형(int, float)\n",
        "\n",
        "x = 10\n",
        "type(x) #int, 정수형\n",
        "\n",
        "x= -10\n",
        "type(x) #int, 정수형\n",
        "\n",
        "x = 0\n",
        "type(x) #int, 정수형"
      ],
      "metadata": {
        "colab": {
          "base_uri": "https://localhost:8080/"
        },
        "id": "HtLGMbSuwP2D",
        "outputId": "ce8702c2-50b6-40c5-95bb-e36c9968d2dc"
      },
      "execution_count": null,
      "outputs": [
        {
          "output_type": "execute_result",
          "data": {
            "text/plain": [
              "int"
            ]
          },
          "metadata": {},
          "execution_count": 25
        }
      ]
    },
    {
      "cell_type": "code",
      "source": [
        "x = 10\n",
        "type(x) #float, 실수형\n",
        "\n",
        "x= 10.1\n",
        "type(x) #float, 실수형\n",
        "\n",
        "x = 0.0\n",
        "type(x) #float, 실수형"
      ],
      "metadata": {
        "colab": {
          "base_uri": "https://localhost:8080/"
        },
        "id": "LDk_-6o_wWbK",
        "outputId": "4693bb9c-20c0-4bba-cc9e-592e40c17a3b"
      },
      "execution_count": null,
      "outputs": [
        {
          "output_type": "execute_result",
          "data": {
            "text/plain": [
              "float"
            ]
          },
          "metadata": {},
          "execution_count": 26
        }
      ]
    },
    {
      "cell_type": "code",
      "source": [
        "10 + 10.1"
      ],
      "metadata": {
        "colab": {
          "base_uri": "https://localhost:8080/"
        },
        "id": "jP51KM9ixEMl",
        "outputId": "019d2d38-36ab-44c4-f679-e0cc346039cd"
      },
      "execution_count": null,
      "outputs": [
        {
          "output_type": "execute_result",
          "data": {
            "text/plain": [
              "20.1"
            ]
          },
          "metadata": {},
          "execution_count": 27
        }
      ]
    },
    {
      "cell_type": "code",
      "source": [
        "# 논리 자료형(bool) : 논리 자료형 True, False\n",
        "\n",
        "x = True\n",
        "type(x) #bool, 논리 자료형\n",
        "\n",
        "x = False\n",
        "type(x) #bool, 논리 자료형"
      ],
      "metadata": {
        "colab": {
          "base_uri": "https://localhost:8080/"
        },
        "id": "1NlkvcxCxG2I",
        "outputId": "7aade546-64a6-4f6c-cd79-0870f899fb41"
      },
      "execution_count": null,
      "outputs": [
        {
          "output_type": "execute_result",
          "data": {
            "text/plain": [
              "bool"
            ]
          },
          "metadata": {},
          "execution_count": 28
        }
      ]
    },
    {
      "cell_type": "code",
      "source": [
        "# 시퀀스 자료형: 문자열, 리스트, 튜플\n",
        "\n",
        "x = 'hello world' #str, 문자열\n",
        "x[0] #0은 index\n",
        "x[5] #5는 index\n",
        "x[6] #6은 index\n",
        "type(x)\n",
        "\n",
        "# 10, '10'\n",
        "x = '10'\n",
        "x + x"
      ],
      "metadata": {
        "colab": {
          "base_uri": "https://localhost:8080/",
          "height": 35
        },
        "id": "H3mdAnNvxTCW",
        "outputId": "242220aa-b7c6-44d3-d93e-64f21b97f461"
      },
      "execution_count": null,
      "outputs": [
        {
          "output_type": "execute_result",
          "data": {
            "text/plain": [
              "'1010'"
            ],
            "application/vnd.google.colaboratory.intrinsic+json": {
              "type": "string"
            }
          },
          "metadata": {},
          "execution_count": 29
        }
      ]
    },
    {
      "cell_type": "code",
      "source": [
        "x = [10,20,30]\n",
        "type(x) #list, 리스트\n",
        "\n",
        "x[0]\n",
        "x[2]\n",
        "# x[10] 인덱스를 초과하여 불러오면 list index out of range가 뜹니다."
      ],
      "metadata": {
        "colab": {
          "base_uri": "https://localhost:8080/"
        },
        "id": "POPLqY7syGoS",
        "outputId": "ba20b0ac-cf70-4b89-8276-dd1eb308f7dc"
      },
      "execution_count": null,
      "outputs": [
        {
          "output_type": "execute_result",
          "data": {
            "text/plain": [
              "30"
            ]
          },
          "metadata": {},
          "execution_count": 30
        }
      ]
    },
    {
      "cell_type": "code",
      "source": [
        "x = (10, 20, 30)\n",
        "type(x) #tuple, 튜플\n",
        "\n",
        "x[0]"
      ],
      "metadata": {
        "colab": {
          "base_uri": "https://localhost:8080/"
        },
        "id": "H9o94a1qydMW",
        "outputId": "4d47cc67-4885-410b-da33-281882679b59"
      },
      "execution_count": null,
      "outputs": [
        {
          "output_type": "execute_result",
          "data": {
            "text/plain": [
              "10"
            ]
          },
          "metadata": {},
          "execution_count": 31
        }
      ]
    },
    {
      "cell_type": "code",
      "source": [
        "x = {'one': '하나', 'two': '둘'}\n",
        "type(x) #dict\n",
        "\n",
        "x['one']"
      ],
      "metadata": {
        "colab": {
          "base_uri": "https://localhost:8080/",
          "height": 35
        },
        "id": "2lKwXyw5ytt3",
        "outputId": "13c7f779-5331-43cf-94c1-985b94da9384"
      },
      "execution_count": null,
      "outputs": [
        {
          "output_type": "execute_result",
          "data": {
            "text/plain": [
              "'하나'"
            ],
            "application/vnd.google.colaboratory.intrinsic+json": {
              "type": "string"
            }
          },
          "metadata": {},
          "execution_count": 32
        }
      ]
    },
    {
      "cell_type": "code",
      "source": [
        "s = {10, 20, 30, 40, 10}\n",
        "type(s) #set"
      ],
      "metadata": {
        "colab": {
          "base_uri": "https://localhost:8080/"
        },
        "id": "DpruUn5Fy-qE",
        "outputId": "aa665bff-a538-4fc4-8cf7-0389edeb1761"
      },
      "execution_count": null,
      "outputs": [
        {
          "output_type": "execute_result",
          "data": {
            "text/plain": [
              "set"
            ]
          },
          "metadata": {},
          "execution_count": 33
        }
      ]
    },
    {
      "cell_type": "code",
      "source": [
        "x = None\n",
        "type(x) #NoneType\n",
        "\n",
        "#[30, 80, 60, None]과 같이 아예 none을 명시해줄 때 사용."
      ],
      "metadata": {
        "colab": {
          "base_uri": "https://localhost:8080/"
        },
        "id": "stYUsieKzItY",
        "outputId": "54bf28e3-eace-4770-a5cc-cbe5371a2617"
      },
      "execution_count": null,
      "outputs": [
        {
          "output_type": "execute_result",
          "data": {
            "text/plain": [
              "NoneType"
            ]
          },
          "metadata": {},
          "execution_count": 34
        }
      ]
    },
    {
      "cell_type": "markdown",
      "source": [
        "## ch4. 정수, 실수"
      ],
      "metadata": {
        "id": "GuUiBmHjzmHG"
      }
    },
    {
      "cell_type": "code",
      "source": [
        "# int\n",
        "\n",
        "x = 10\n",
        "y = -5\n",
        "z = 0\n",
        "print(type(x), type(y), type(z))"
      ],
      "metadata": {
        "colab": {
          "base_uri": "https://localhost:8080/"
        },
        "id": "VTvB4qhO0A8L",
        "outputId": "3e2c49a4-8710-40a1-e202-8a4c270dbc09"
      },
      "execution_count": null,
      "outputs": [
        {
          "output_type": "stream",
          "name": "stdout",
          "text": [
            "<class 'int'> <class 'int'> <class 'int'>\n"
          ]
        }
      ]
    },
    {
      "cell_type": "code",
      "source": [
        "# 2진수(0, 1, 10),\n",
        "# 8진수(0, 1, 2, 3, 4, 5, 6, 7, 10),\n",
        "# 16진수(0, 1, 2, 3, 4, 5, 6, 7, 8, 9, a, b, c, d, e, f, 10) 모두 정수입니다.\n",
        "\n",
        "x = 0b1001 #bin\n",
        "x\n",
        "\n",
        "x = 0o1001 #oct\n",
        "x\n",
        "\n",
        "x = 0x1001 #hex\n",
        "x"
      ],
      "metadata": {
        "colab": {
          "base_uri": "https://localhost:8080/"
        },
        "id": "tGuoXC7m0IWN",
        "outputId": "2bf147fb-1e69-4135-d9a3-ead5ac4cc8ab"
      },
      "execution_count": null,
      "outputs": [
        {
          "output_type": "execute_result",
          "data": {
            "text/plain": [
              "4097"
            ]
          },
          "metadata": {},
          "execution_count": 36
        }
      ]
    },
    {
      "cell_type": "code",
      "source": [
        "x = 0b1001 #bin\n",
        "type(x)"
      ],
      "metadata": {
        "colab": {
          "base_uri": "https://localhost:8080/"
        },
        "id": "Zw8UBF8_0xWC",
        "outputId": "ba5f7187-b153-4afb-e129-6dad0c72be7c"
      },
      "execution_count": null,
      "outputs": [
        {
          "output_type": "execute_result",
          "data": {
            "text/plain": [
              "int"
            ]
          },
          "metadata": {},
          "execution_count": 37
        }
      ]
    },
    {
      "cell_type": "code",
      "source": [
        "int('10') #형변환 함수: 문자열 -> 정수"
      ],
      "metadata": {
        "colab": {
          "base_uri": "https://localhost:8080/"
        },
        "id": "CvE7vZhF00Bi",
        "outputId": "55764677-0d08-4a04-aa65-5648d00a8408"
      },
      "execution_count": null,
      "outputs": [
        {
          "output_type": "execute_result",
          "data": {
            "text/plain": [
              "10"
            ]
          },
          "metadata": {},
          "execution_count": 38
        }
      ]
    },
    {
      "cell_type": "code",
      "source": [
        "int(10.1) #형변환 함수: 실수 -> 정수"
      ],
      "metadata": {
        "colab": {
          "base_uri": "https://localhost:8080/"
        },
        "id": "BndwuTuZ04z_",
        "outputId": "ca40e599-142d-45d5-886f-8b26f7560a08"
      },
      "execution_count": null,
      "outputs": [
        {
          "output_type": "execute_result",
          "data": {
            "text/plain": [
              "10"
            ]
          },
          "metadata": {},
          "execution_count": 39
        }
      ]
    },
    {
      "cell_type": "code",
      "source": [
        "bin(9) #형변환 함수: 10진수 -> 2진수\n",
        "oct(9) #형변환 함수: 10진수 -> 8진수\n",
        "hex(9) #형변환 함수: 10진수 -> 16진수\n",
        "type(hex(9))"
      ],
      "metadata": {
        "colab": {
          "base_uri": "https://localhost:8080/"
        },
        "id": "XWHDNEdY1V8F",
        "outputId": "50a2bb78-0273-4e83-bb9c-506da715e34f"
      },
      "execution_count": null,
      "outputs": [
        {
          "output_type": "execute_result",
          "data": {
            "text/plain": [
              "str"
            ]
          },
          "metadata": {},
          "execution_count": 43
        }
      ]
    },
    {
      "cell_type": "code",
      "source": [
        "# 10진수로 형변환할 때는 몇진수인지 표기 필요.\n",
        "\n",
        "int('0b1001', 2) #형변환 함수: 2진수 -> 정수\n",
        "int('0o11', 8)   #형변환 함수: 8진수 -> 정수\n"
      ],
      "metadata": {
        "colab": {
          "base_uri": "https://localhost:8080/"
        },
        "id": "Nt2EyhMQ1ZiA",
        "outputId": "ea034e68-81e3-4cb2-8bc2-261e3f382d63"
      },
      "execution_count": null,
      "outputs": [
        {
          "output_type": "execute_result",
          "data": {
            "text/plain": [
              "9"
            ]
          },
          "metadata": {},
          "execution_count": 46
        }
      ]
    },
    {
      "cell_type": "code",
      "source": [
        "# 실수\n",
        "\n",
        "x = 10.0\n",
        "y = 10\n",
        "print(type(x), type(y)) #출력 : <class 'float> <class 'int'>\n",
        "\n",
        "x + y"
      ],
      "metadata": {
        "colab": {
          "base_uri": "https://localhost:8080/"
        },
        "id": "kDyU0aTN2RMG",
        "outputId": "ca30eacc-02ff-4753-efc1-c19b37f6dff3"
      },
      "execution_count": null,
      "outputs": [
        {
          "output_type": "stream",
          "name": "stdout",
          "text": [
            "<class 'float'> <class 'int'>\n"
          ]
        },
        {
          "output_type": "execute_result",
          "data": {
            "text/plain": [
              "20.0"
            ]
          },
          "metadata": {},
          "execution_count": 47
        }
      ]
    },
    {
      "cell_type": "code",
      "source": [
        "# inf: 양의 무한대를 나타내는 상수\n",
        "\n",
        "x = float(\"inf\")\n",
        "\n",
        "x > 100"
      ],
      "metadata": {
        "colab": {
          "base_uri": "https://localhost:8080/"
        },
        "id": "BcnQjMRl2-6A",
        "outputId": "bd35e467-6b85-4edf-f110-fff83c004054"
      },
      "execution_count": null,
      "outputs": [
        {
          "output_type": "execute_result",
          "data": {
            "text/plain": [
              "True"
            ]
          },
          "metadata": {},
          "execution_count": 48
        }
      ]
    },
    {
      "cell_type": "code",
      "source": [
        "# -inf: 음의 무한대를 나타내는 상수\n",
        "\n",
        "x = float(\"-inf\")\n",
        "\n",
        "x < 100"
      ],
      "metadata": {
        "colab": {
          "base_uri": "https://localhost:8080/"
        },
        "id": "e3oyx9pq3I2R",
        "outputId": "50c332a0-fb5c-40fc-cf53-764d48c9ccee"
      },
      "execution_count": null,
      "outputs": [
        {
          "output_type": "execute_result",
          "data": {
            "text/plain": [
              "True"
            ]
          },
          "metadata": {},
          "execution_count": 49
        }
      ]
    },
    {
      "cell_type": "code",
      "source": [],
      "metadata": {
        "id": "39fWgo3x3Yv9"
      },
      "execution_count": null,
      "outputs": []
    },
    {
      "cell_type": "markdown",
      "source": [
        "## ch5. 문자열 자료형"
      ],
      "metadata": {
        "id": "qd_l6MUT3kVV"
      }
    },
    {
      "cell_type": "code",
      "source": [
        "s = 'hello world'\n",
        "s = \"hello world\"\n",
        "s = '''hello world'''\n",
        "s = \"\"\"hello world\"\"\"\n",
        "s"
      ],
      "metadata": {
        "colab": {
          "base_uri": "https://localhost:8080/",
          "height": 35
        },
        "id": "_25tUntN3n_t",
        "outputId": "822650c0-7fc2-4915-8e68-eb4530b4b98d"
      },
      "execution_count": null,
      "outputs": [
        {
          "output_type": "execute_result",
          "data": {
            "text/plain": [
              "'hello world'"
            ],
            "application/vnd.google.colaboratory.intrinsic+json": {
              "type": "string"
            }
          },
          "metadata": {},
          "execution_count": 50
        }
      ]
    },
    {
      "cell_type": "code",
      "source": [
        "s = '''hello\n",
        "wo\n",
        "rl\n",
        "d'''\n",
        "\n",
        "print(s)\n",
        "\n",
        "# escape 문자열\n",
        "# \\n\n",
        "# \\t\n",
        "# \\'\n",
        "# \\\"\n",
        "\n",
        "s = 'h\\ne\\nl\\nlo w\\to\\trld'\n",
        "print(s)\n"
      ],
      "metadata": {
        "colab": {
          "base_uri": "https://localhost:8080/"
        },
        "id": "B5b4Rhof4az_",
        "outputId": "b1296bb7-79a0-4041-9e9c-2ff2cf0ba082"
      },
      "execution_count": null,
      "outputs": [
        {
          "output_type": "stream",
          "name": "stdout",
          "text": [
            "hello\n",
            "wo\n",
            "rl\n",
            "d\n",
            "h\n",
            "e\n",
            "l\n",
            "lo w\to\trld\n"
          ]
        }
      ]
    },
    {
      "cell_type": "code",
      "source": [
        "# 문자열의 인덱싱\n",
        "\n",
        "s = 'hello world'\n",
        "s[0]\n",
        "s[1]"
      ],
      "metadata": {
        "colab": {
          "base_uri": "https://localhost:8080/",
          "height": 35
        },
        "id": "B1JZnorD5buh",
        "outputId": "d7469119-a6ba-4b8d-cb49-93b796631113"
      },
      "execution_count": null,
      "outputs": [
        {
          "output_type": "execute_result",
          "data": {
            "text/plain": [
              "'e'"
            ],
            "application/vnd.google.colaboratory.intrinsic+json": {
              "type": "string"
            }
          },
          "metadata": {},
          "execution_count": 57
        }
      ]
    },
    {
      "cell_type": "code",
      "source": [
        "s = 'hello world'\n",
        "s[0] + s[1] + s[2] + s[3] + s[4]"
      ],
      "metadata": {
        "colab": {
          "base_uri": "https://localhost:8080/",
          "height": 35
        },
        "id": "H8HnHcCb5j8z",
        "outputId": "8eaea93a-6f88-493d-e41c-ea7ca0921055"
      },
      "execution_count": null,
      "outputs": [
        {
          "output_type": "execute_result",
          "data": {
            "text/plain": [
              "'hello'"
            ],
            "application/vnd.google.colaboratory.intrinsic+json": {
              "type": "string"
            }
          },
          "metadata": {},
          "execution_count": 58
        }
      ]
    },
    {
      "cell_type": "code",
      "source": [
        "# 문자열의 슬라이싱(변수명[start:stop:step])\n",
        "s= 'hello world'\n",
        "s[0:5]"
      ],
      "metadata": {
        "colab": {
          "base_uri": "https://localhost:8080/",
          "height": 35
        },
        "id": "tjt8ZfBt5pvB",
        "outputId": "987fc7e4-3471-4600-e220-a549a7ff947e"
      },
      "execution_count": null,
      "outputs": [
        {
          "output_type": "execute_result",
          "data": {
            "text/plain": [
              "'hello'"
            ],
            "application/vnd.google.colaboratory.intrinsic+json": {
              "type": "string"
            }
          },
          "metadata": {},
          "execution_count": 59
        }
      ]
    },
    {
      "cell_type": "code",
      "source": [
        "s= 'hello world'\n",
        "\n",
        "s[0:5:2] # 2칸씩 건너뛰면서 0에서 5까지 출력\n",
        "\n",
        "s[0::2] # 2칸씩 건너뛰면서 마지막까지 출력\n",
        "\n",
        "s[::2] # 2칸씩 건너뛰면서 처음부터 마지막까지 출력\n",
        "\n",
        "s[::-2] # 역순으로 2칸씩 처음부터 마지막까지 출력\n",
        "\n",
        "# s[100:150:2] # 슬라이싱은 초과된 인덱스를 입력해도 에러가 나지 않습니다."
      ],
      "metadata": {
        "colab": {
          "base_uri": "https://localhost:8080/",
          "height": 35
        },
        "id": "e0GRaadU5uI3",
        "outputId": "8dad789f-0387-4469-d556-8f90c989fc99"
      },
      "execution_count": null,
      "outputs": [
        {
          "output_type": "execute_result",
          "data": {
            "text/plain": [
              "'drwolh'"
            ],
            "application/vnd.google.colaboratory.intrinsic+json": {
              "type": "string"
            }
          },
          "metadata": {},
          "execution_count": 64
        }
      ]
    },
    {
      "cell_type": "code",
      "source": [
        "# 문자열 메서드\n",
        "\n",
        "s = 'Hello World'\n",
        "\n",
        "s.count('l') #3\n",
        "s.find('World') #6\n",
        "\n",
        "'1'.isdigit() #True\n",
        "'t1'.isdigit() #False\n",
        "\n",
        "'-'.join(['011', '9999','8888'])\n",
        "\n",
        "s.lower() #hello world\n",
        "s.upper() #HELLO WORLD\n",
        "s.replace('Hello', 'Hi') #'Hi Worild'\n",
        "\n",
        "s.split(' ') #['Hello', 'World']\n",
        "'011-9999-8888'.split('-') #['011', '9999', '8888']\n",
        "\n",
        "'   Hello World   '.strip() #Hello World\n",
        "\n",
        "'90'.zfill(3) #090\n",
        "\n",
        "# 'count' 해당 문자가 문자열에 몇개나 있는지?\n",
        "# 'find' 해당 문자열이 몇번째 인덱스부터 시작하는지?\n",
        "# 'isdigit' 해당 문자열이 숫자로만 이루어져있는지?\n",
        "# 'join' 순회 가능한 리스트의 요소들을 해당 문자로 연결하기\n",
        "# 'lower' 해당 문자열을 전부 소문자로 치환\n",
        "# 'upper' 해당 문자열을 전부 대문자로 치\n",
        "# 'replace' 해당 문자열의 첫번째 인수 값을 찾아서 두번째 인수에 입력한 문자로 치환\n",
        "# 'split' 해당 문자열을 입력한 값의 단위로 쪼개서 각각 리스트 요소로 만들기 ex) 띄어쓰기, - 등\n",
        "# 'strip' 앞뒤 공백 없애기\n",
        "# 'zfill' 입력한 숫자대로 자릿수 맞추도록 0을 채워넣기"
      ],
      "metadata": {
        "colab": {
          "base_uri": "https://localhost:8080/",
          "height": 35
        },
        "id": "ljTW4ma864rM",
        "outputId": "f2eeb89a-d181-4b9a-c843-de70537795cf"
      },
      "execution_count": null,
      "outputs": [
        {
          "output_type": "execute_result",
          "data": {
            "text/plain": [
              "'090'"
            ],
            "application/vnd.google.colaboratory.intrinsic+json": {
              "type": "string"
            }
          },
          "metadata": {},
          "execution_count": 94
        }
      ]
    },
    {
      "cell_type": "markdown",
      "source": [
        "## ch6. 논리 자료형과 None 자료형"
      ],
      "metadata": {
        "id": "pXik5_ZdA_tP"
      }
    },
    {
      "cell_type": "code",
      "source": [
        "# 논리 자료형\n",
        "# 다른 언어는 True, true로 표기하는 경우도 있습니다. 하지만 파이썬은 꼭 대문자로 쓴다.\n",
        "x = True\n",
        "y = False\n",
        "\n",
        "type(x)"
      ],
      "metadata": {
        "colab": {
          "base_uri": "https://localhost:8080/"
        },
        "id": "S2TBcuHUBCrp",
        "outputId": "dfd9e137-812a-4413-eb4a-a2d35721020d"
      },
      "execution_count": null,
      "outputs": [
        {
          "output_type": "execute_result",
          "data": {
            "text/plain": [
              "bool"
            ]
          },
          "metadata": {},
          "execution_count": 95
        }
      ]
    },
    {
      "cell_type": "code",
      "source": [
        "True < 3"
      ],
      "metadata": {
        "colab": {
          "base_uri": "https://localhost:8080/"
        },
        "id": "OFnIpdOGBIVJ",
        "outputId": "015e35f4-252d-40ef-e224-56b7cb88c240"
      },
      "execution_count": null,
      "outputs": [
        {
          "output_type": "execute_result",
          "data": {
            "text/plain": [
              "True"
            ]
          },
          "metadata": {},
          "execution_count": 99
        }
      ]
    },
    {
      "cell_type": "code",
      "source": [
        "True == 1"
      ],
      "metadata": {
        "colab": {
          "base_uri": "https://localhost:8080/"
        },
        "id": "3VZlIYbWBLfy",
        "outputId": "c8cd92a9-42ea-439e-f0a3-76d278c8328c"
      },
      "execution_count": null,
      "outputs": [
        {
          "output_type": "execute_result",
          "data": {
            "text/plain": [
              "True"
            ]
          },
          "metadata": {},
          "execution_count": 98
        }
      ]
    },
    {
      "cell_type": "code",
      "source": [
        "False == 1"
      ],
      "metadata": {
        "colab": {
          "base_uri": "https://localhost:8080/"
        },
        "id": "Hjf1joAbBMtq",
        "outputId": "8727ca74-d595-4303-f82d-fd3dbef236b9"
      },
      "execution_count": null,
      "outputs": [
        {
          "output_type": "execute_result",
          "data": {
            "text/plain": [
              "False"
            ]
          },
          "metadata": {},
          "execution_count": 97
        }
      ]
    },
    {
      "cell_type": "code",
      "source": [
        "False == 0"
      ],
      "metadata": {
        "colab": {
          "base_uri": "https://localhost:8080/"
        },
        "id": "F5bRiIbmBOdt",
        "outputId": "fe6f5b5d-63ee-489c-d6fe-a3f30e901e2c"
      },
      "execution_count": null,
      "outputs": [
        {
          "output_type": "execute_result",
          "data": {
            "text/plain": [
              "True"
            ]
          },
          "metadata": {},
          "execution_count": 96
        }
      ]
    },
    {
      "cell_type": "code",
      "source": [
        "bool('hello')"
      ],
      "metadata": {
        "colab": {
          "base_uri": "https://localhost:8080/"
        },
        "id": "LmQOJhkgBWuw",
        "outputId": "7a12e8be-81bb-43b7-e59a-b32520f1ea6a"
      },
      "execution_count": null,
      "outputs": [
        {
          "output_type": "execute_result",
          "data": {
            "text/plain": [
              "True"
            ]
          },
          "metadata": {},
          "execution_count": 100
        }
      ]
    },
    {
      "cell_type": "code",
      "source": [
        "bool('')"
      ],
      "metadata": {
        "colab": {
          "base_uri": "https://localhost:8080/"
        },
        "id": "wdDJU5GDBm3p",
        "outputId": "7e695429-eca3-4fda-e36f-8a53bd7c9cab"
      },
      "execution_count": null,
      "outputs": [
        {
          "output_type": "execute_result",
          "data": {
            "text/plain": [
              "False"
            ]
          },
          "metadata": {},
          "execution_count": 101
        }
      ]
    },
    {
      "cell_type": "code",
      "source": [
        "print(bool(0))\n",
        "print(bool(1))\n",
        "print(bool(100))\n",
        "print(bool(-1))\n",
        "print(bool(-100))"
      ],
      "metadata": {
        "colab": {
          "base_uri": "https://localhost:8080/"
        },
        "id": "TDPFRyVQBoOh",
        "outputId": "4ee9bd9b-152d-46b6-9a84-a36439f81d60"
      },
      "execution_count": null,
      "outputs": [
        {
          "output_type": "stream",
          "name": "stdout",
          "text": [
            "False\n",
            "True\n",
            "True\n",
            "True\n",
            "True\n"
          ]
        }
      ]
    },
    {
      "cell_type": "code",
      "source": [
        "print(bool([]))\n",
        "print(bool({}))\n",
        "print(bool(set()))\n",
        "print(bool(()))"
      ],
      "metadata": {
        "colab": {
          "base_uri": "https://localhost:8080/"
        },
        "id": "_O_qfpItBx-Z",
        "outputId": "16dff0a8-9af3-47b3-97ef-15a06e5c5cba"
      },
      "execution_count": null,
      "outputs": [
        {
          "output_type": "stream",
          "name": "stdout",
          "text": [
            "False\n",
            "False\n",
            "False\n",
            "False\n"
          ]
        }
      ]
    },
    {
      "cell_type": "code",
      "source": [
        "# None 자료형\n",
        "\n",
        "x = None\n",
        "type(x)"
      ],
      "metadata": {
        "colab": {
          "base_uri": "https://localhost:8080/"
        },
        "id": "fcsC6wh2CA81",
        "outputId": "d2345b5b-6862-442f-9cf6-b96735d8883e"
      },
      "execution_count": null,
      "outputs": [
        {
          "output_type": "execute_result",
          "data": {
            "text/plain": [
              "NoneType"
            ]
          },
          "metadata": {},
          "execution_count": 104
        }
      ]
    },
    {
      "cell_type": "code",
      "source": [
        "None == 0\n",
        "\n",
        "# None + None #TypeErro 뜬다. None은 더하기 지원 안함."
      ],
      "metadata": {
        "colab": {
          "base_uri": "https://localhost:8080/"
        },
        "id": "twAL-xy0CG3c",
        "outputId": "16af50f2-ae7f-48d7-8eea-bd86a6b03210"
      },
      "execution_count": null,
      "outputs": [
        {
          "output_type": "execute_result",
          "data": {
            "text/plain": [
              "False"
            ]
          },
          "metadata": {},
          "execution_count": 105
        }
      ]
    }
  ]
}